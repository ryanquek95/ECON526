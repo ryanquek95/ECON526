{
  "cells": [
    {
      "cell_type": "markdown",
      "metadata": {},
      "source": [
        "# Uncertainty Quantification\n",
        "\n",
        "ECON526\n",
        "\n",
        "Paul Schrimpf (University of British Columbia)\n",
        "\n",
        "# Overview\n",
        "\n",
        "$$\n",
        "\\def\\indep{\\perp\\!\\!\\!\\perp} % \\def\\idp{\\perp\\kern-5pt\\perp}\n",
        "\\def\\Er{\\mathrm{E}}\n",
        "\\def\\var{\\mathrm{Var}}\n",
        "\\def\\R{\\mathbb{R}}\n",
        "\\def\\En{{\\mathbb{E}_n}}\n",
        "\\def\\Pr{\\mathrm{P}}\n",
        "\\newcommand{\\norm}[1]{\\left\\Vert {#1} \\right\\Vert}\n",
        "\\newcommand{\\abs}[1]{\\left\\vert {#1} \\right\\vert}\n",
        "\\def\\inprob{{\\,{\\buildrel p \\over \\rightarrow}\\,}}\n",
        "\\def\\indist{\\,{\\buildrel d \\over \\rightarrow}\\,}\n",
        "\\DeclareMathOperator*{\\plim}{plim}\n",
        "\\DeclareMathOperator*{\\argmax}{arg\\,max}\n",
        "\\DeclareMathOperator*{\\argmin}{arg\\,min}\n",
        "$$\n",
        "\n",
        "## Summary\n",
        "\n",
        "-   Standard errors\n",
        "-   Confidence intervals\n",
        "-   Standard errors for functions of estimates\n",
        "    -   Delta method\n",
        "    -   Simulation\n",
        "-   Bootstrap\n",
        "\n",
        "# Introduction\n",
        "\n",
        "## Example: Pfizer Covid Vaccine RCT\n",
        "\n",
        "-   Number of participants and number infected by treatment status\n",
        "\n",
        "| Group        | Treated | Placebo |\n",
        "|--------------|---------|---------|\n",
        "| All          | 19965   | 20172   |\n",
        "| Infected     | 9       | 169     |\n",
        "| 65+          | 4044    | 4067    |\n",
        "| 65+ Infected | 1       | 19      |\n",
        "\n",
        "## Example Pfizer Covid Vaccine RCT\n",
        "\n",
        "``` python\n",
        "import statsmodels.api as sm\n",
        "\n",
        "class binarybinaryrct :\n",
        "    def __init__(self, NT, NU, NYT, NYU):\n",
        "        self.NT=NT\n",
        "        self.NU=NU\n",
        "        self.NYT=NYT\n",
        "        self.NYU=NYU\n",
        "\n",
        "    def ATE(self):\n",
        "        return (self.NYT/self.NT - self.NYU/self.NU)\n",
        "\n",
        "    def table(self):\n",
        "        return(\"|  | Infection Rate per 1000|\\n\"+\n",
        "               \"|---|---|\\n\"\n",
        "               f\"|Treated| {self.NYT/self.NT*1000:.2}|\\n\" +\n",
        "               f\"|Control| {self.NYU/self.NU*1000:.2}|\\n\" +\n",
        "               f\"|Difference| {self.ATE()*1000:.2}|\\n\")\n",
        "    def VE(self):\n",
        "        tb = sm.stats.Table2x2([[self.NYT, self.NT - self.NYT], [self.NYU, self.NU - self.NYU]])\n",
        "        ve=1-tb.riskratio\n",
        "        ci = tb.riskratio_confint()\n",
        "        ci = [1-ci[1],1-ci[0]]\n",
        "        return(ve,ci)\n",
        "\n",
        "pfizerall = binarybinaryrct(19965, 20172, 9, 169)\n",
        "pfizer65 = binarybinaryrct(4044, 4067, 1, 19)\n",
        "\n",
        "print(\"\\n- All\\n\\n\" + pfizerall.table() + \"\\n - 65+\\n\\n\" + pfizer65.table())\n",
        "```\n",
        "\n",
        "-   All\n",
        "\n",
        "|            | Infection Rate per 1000 |\n",
        "|------------|-------------------------|\n",
        "| Treated    | 0.45                    |\n",
        "| Control    | 8.4                     |\n",
        "| Difference | -7.9                    |\n",
        "\n",
        "-   65+\n",
        "\n",
        "|            | Infection Rate per 1000 |\n",
        "|------------|-------------------------|\n",
        "| Treated    | 0.25                    |\n",
        "| Control    | 4.7                     |\n",
        "| Difference | -4.4                    |\n",
        "\n",
        "-   We see the sample ATE of the Vaccine on infections per 1000 people\n",
        "-   Sample ATE is random, how confident can we be that it is near the\n",
        "    population ATE?\n",
        "\n",
        "# Standard Errors\n",
        "\n",
        "## Standard Errors\n",
        "\n",
        "-   **Standard Error** = standard deviation of an estimator\n",
        "\n",
        "-   In this example, ATE is difference of two proportions, so $$\n",
        "    \\begin{align*}\n",
        "      \\var(ATE) & = \\var(\\hat{p}_1 - \\hat{p}_0) \\\\\n",
        "      & = \\var(\\hat{p}_1) + \\var(\\hat{p}_0) \\\\\n",
        "      & = \\var\\left(\\frac{1}{N_1} \\sum_{i=1}^{N_1} Y_i \\right) + \\var\\left(\\frac{1}{N_0} \\sum_{i=1}^{N_0} Y_i \\right) \\\\\n",
        "      & = \\frac{1}{N_1} \\hat{p}_1(1-\\hat{p}_1) + \\frac{1}{N_0} \\hat{p}_0(1-\\hat{p}_0)\n",
        "    \\end{align*}\n",
        "    $$\n",
        "\n",
        "``` python\n",
        "def tablewithse(self, scale=1000):\n",
        "    p1 = self.NYT/self.NT\n",
        "    p0 = self.NYU/self.NU\n",
        "    se = (p1*(1-p1)/self.NT + p0*(1-p0)/self.NU)**0.5\n",
        "    return(f\"|  | Infection Rate per {scale}|\\n\"+\n",
        "           \"|---|---|\\n\"\n",
        "           f\"|Treated| {p1*scale:.2} ({scale*(p1*(1-p1)/self.NT)**0.5:.2})|\\n\" +\n",
        "           f\"|Control| {p0*scale:.2} ({scale*(p0*(1-p0)/self.NU)**0.5:.2})|\\n\" +\n",
        "           f\"|Difference| {self.ATE()*scale:.2} ({se*scale:.2})|\\n\")\n",
        "\n",
        "binarybinaryrct.table = tablewithse\n",
        "\n",
        "print(pfizerall.table())\n",
        "```\n",
        "\n",
        "|            | Infection Rate per 1000 |\n",
        "|------------|-------------------------|\n",
        "| Treated    | 0.45 (0.15)             |\n",
        "| Control    | 8.4 (0.64)              |\n",
        "| Difference | -7.9 (0.66)             |\n",
        "\n",
        "# Confidence Intervals\n",
        "\n",
        "## Confidence Intervals\n",
        "\n",
        "-   Function of data constructed such that $$\n",
        "    P(ATE \\in \\widehat{CI}_\\alpha) \\approx \\alpha\n",
        "    $$\n",
        "-   Can create if we know the (approximate) distribution of the data or\n",
        "    the estimate\n",
        "\n",
        "## Exact Estimator Distribution\n",
        "\n",
        "-   Confidence interval for $P(Y)$ with $Y_i \\in \\{0,1\\}$, i.i.d.\n",
        "-   Given $P(Y)=p$ can calculate or simulate distribution of\n",
        "    $\\hat{p} = \\frac{1}{n} \\sum Y_i$"
      ],
      "id": "d0332e09-569e-4f66-9561-76744ca1ecd1"
    },
    {
      "cell_type": "code",
      "execution_count": 4,
      "metadata": {
        "output-location": "column"
      },
      "outputs": [
        {
          "output_type": "display_data",
          "metadata": {},
          "data": {
            "image/png": "[encoded data removed]"
          }
        }
      ],
      "source": [
        "import numpy as np\n",
        "import matplotlib.pyplot as plt\n",
        "\n",
        "ps = [0.1, 0.05, 0.01]\n",
        "N = 400\n",
        "S = 100_000\n",
        "for p in ps:\n",
        "    Y = np.random.binomial(1, p, (S, N))\n",
        "    Ybar = Y.mean(axis=1)\n",
        "    plt.hist(Ybar, bins=20, alpha=0.5,\n",
        "             label=f\"p₀={p}\")\n",
        "\n",
        "plt.title(\"Distribution of Sample Proportion\")\n",
        "plt.legend()\n",
        "plt.show()"
      ],
      "id": "68db5739"
    },
    {
      "cell_type": "markdown",
      "metadata": {},
      "source": [
        "## Exact Confidence Interval\n",
        "\n",
        "-   Knowing distribution of $\\hat{p}$ given $p$ can compute\n",
        "    $P(|\\hat{p}-p|\\geq |\\hat{p}_{obs} - p|)$ $$\n",
        "    \\widehat{CI}_\\alpha(\\hat{p}_{obs}) = \\{p: P(|\\hat{p}-p| \\leq |\\hat{p}_{obs} - p|) \\leq \\alpha \\}\n",
        "    $$"
      ],
      "id": "f2ea8b1c-255d-413f-b5d1-aa9f1618c7e5"
    },
    {
      "cell_type": "code",
      "execution_count": 5,
      "metadata": {},
      "outputs": [
        {
          "output_type": "display_data",
          "metadata": {},
          "data": {
            "text/plain": [
              "(0.024936331074641174, 0.11102458520956958)"
            ]
          }
        }
      ],
      "source": [
        "def proportioncisim(phat, n, level=0.95, S=100_000):\n",
        "    se = (phat*(1-phat)/n)**0.5\n",
        "    dp = se/20\n",
        "    p = phat - dp\n",
        "    while (abs(np.random.binomial(n,p, S)/n-p) <= abs((phat-p))).mean() < level :\n",
        "        p = p - dp\n",
        "        if p < 0:\n",
        "            break\n",
        "    plo = p\n",
        "    p = phat + dp\n",
        "    while (abs(np.random.binomial(n,p,S)/n-p) <= abs((phat-p))).mean() < level :\n",
        "        p = p + dp\n",
        "        if p < 0:\n",
        "            break\n",
        "    phi = p\n",
        "\n",
        "    return(plo,phi)\n",
        "\n",
        "phat = 0.05\n",
        "n = 100\n",
        "proportioncisim(phat, 100, level=0.95)"
      ],
      "id": "ab0cb3c4"
    },
    {
      "cell_type": "markdown",
      "metadata": {},
      "source": [
        "## Exact Confidence Interval"
      ],
      "id": "af5b09fa-d79c-49c7-a357-ee7e8db2add9"
    },
    {
      "cell_type": "code",
      "execution_count": 6,
      "metadata": {},
      "outputs": [
        {
          "output_type": "display_data",
          "metadata": {},
          "data": {
            "text/plain": [
              "(0.022320991708517042, 0.11287711726057285)"
            ]
          }
        }
      ],
      "source": [
        "import scipy\n",
        "#| echo: true\n",
        "def proportionci(phat, n, level=0.95):\n",
        "    se = (phat*(1-phat)/n)**0.5\n",
        "    dp = se/200\n",
        "    k = round(phat*n)\n",
        "    p = phat - dp\n",
        "    while (scipy.stats.binom.cdf(k,n,p) < (1-(1-level)/2) ) :\n",
        "        p = p - dp\n",
        "        if (p < 0):\n",
        "            break\n",
        "    plo = p\n",
        "    p = phat + dp\n",
        "    while (scipy.stats.binom.cdf(k,n,p) > (1-level)/2) :\n",
        "        p = p + dp\n",
        "        if p < 0 :\n",
        "            break\n",
        "    phi = p\n",
        "    return(plo,phi)\n",
        "\n",
        "proportionci(phat, n)"
      ],
      "id": "2b360790"
    },
    {
      "cell_type": "markdown",
      "metadata": {},
      "source": [
        "## Exact Confidence Interval"
      ],
      "id": "92739ff7-3172-4089-b3bb-2c7ab15cf717"
    },
    {
      "cell_type": "code",
      "execution_count": 7,
      "metadata": {},
      "outputs": [
        {
          "output_type": "display_data",
          "metadata": {},
          "data": {
            "text/plain": [
              "(0.23971701200382992, 0.8556562725036012)"
            ]
          }
        }
      ],
      "source": [
        "phat = pfizerall.NYT/pfizerall.NT\n",
        "plo, phi=proportionci(phat,pfizerall.NT)\n",
        "1000*plo, 1000*phi"
      ],
      "id": "9514b252"
    },
    {
      "cell_type": "markdown",
      "metadata": {},
      "source": [
        "## Approximate Confidence Interval\n",
        "\n",
        "-   Usually, distribution of data and/or estimator unknown\n",
        "-   But a Central Limit Theorem can give an approximate distribution\n",
        "\n",
        "## Central Limit Theorem\n",
        "\n",
        "> **Berry-Esseen Central Limit Theorem**\n",
        ">\n",
        "> If $X_i$ are i.i.d. with $\\Er[X] = 0$ and $\\var(X)=1$, then $$\n",
        "> \\sup_{x \\in \\R} P\\left( \\left\\vert\n",
        "> P\\left(\\frac{1}{\\sqrt{n}} \\sum_{i=1}^n X_i \\leq x \\right) - \\Phi(X) \\right\\vert \\right) \\leq C \\Er[|X|^3]/\\sqrt{n}\n",
        "> $$ where $\\Phi$ is the normal CDF.\n",
        "\n",
        "> **Multivariate Central Limit Theorem**\n",
        ">\n",
        "> If $X_i \\in \\R^d$ are i.i.d. with $\\Er[X] = 0$ and $\\var(X)=I_d$, then\n",
        "> $$\n",
        "> \\sup_{A \\subset \\R^d, \\text{convex}} P\\left( \\left\\vert\n",
        "> P\\left(\\frac{1}{\\sqrt{n}} \\sum_{i=1}^n X_i \\in A \\right) - P(N(0,I_d) \\in A) \\right\\vert \\right) \\leq\n",
        "> (42 d^{1/4} + 16) \\Er[\\Vert X \\Vert ^3]/\\sqrt{n}\n",
        "> $$\n",
        ">\n",
        "> [1]\n",
        "\n",
        "## Approximate Confidence Interval\n",
        "\n",
        "[1] See Raič (2019) for details."
      ],
      "id": "7c914483-6430-45ee-8507-e2d0b9d37b17"
    },
    {
      "cell_type": "code",
      "execution_count": 8,
      "metadata": {},
      "outputs": [
        {
          "output_type": "display_data",
          "metadata": {},
          "data": {
            "text/plain": [
              "(np.float64(0.1563452787741701), np.float64(0.7452324823077232))"
            ]
          }
        }
      ],
      "source": [
        "def normalci(estimate, se, level=0.95):\n",
        "    return (estimate + se*scipy.stats.norm.ppf((1-level)/2),\n",
        "            estimate + se*scipy.stats.norm.ppf(1-(1-level)/2))\n",
        "\n",
        "phat = pfizerall.NYT/pfizerall.NT\n",
        "se = (phat*(1-phat)/pfizerall.NT)**0.5\n",
        "lo,hi=normalci(phat, se)\n",
        "lo*1000, hi*1000"
      ],
      "id": "417abd24"
    },
    {
      "cell_type": "code",
      "execution_count": 9,
      "metadata": {},
      "outputs": [
        {
          "output_type": "display_data",
          "metadata": {},
          "data": {
            "text/plain": [
              "(np.float64(-9.218976095611334), np.float64(-6.63534540961651))"
            ]
          }
        }
      ],
      "source": [
        "def differenceci(e1,se1, e0, se0, level=0.95) :\n",
        "    diff = e1 - e0\n",
        "    se = (se1*se1 + se0*s0)**0.5\n",
        "    return(normalci(diff, se, level=level))\n",
        "\n",
        "p0 = pfizerall.NYU/pfizerall.NU\n",
        "s0 = (p0*(1-p0)/pfizerall.NU)**0.5\n",
        "lo,hi=differenceci(phat,se, p0, s0)\n",
        "lo*1000, hi*1000"
      ],
      "id": "eacd32c5"
    },
    {
      "cell_type": "markdown",
      "metadata": {},
      "source": [
        "# Functions of Estimates\n",
        "\n",
        "## Functions of Estimates\n",
        "\n",
        "-   Often report functions of estimates\n",
        "    -   E.g. $$\n",
        "        \\text{vaccine efficacy} = 1 - \\frac{\\Er[Y|T=1]} {\\Er[Y|T=0]}\n",
        "        $$\n",
        "\n",
        "## Delta Method\n",
        "\n",
        "> **Delta Method**\n",
        ">\n",
        "> If 1. $\\sqrt{n} (\\hat{\\theta} - \\theta_0) \\leadsto N(0,\\Omega)$\n",
        ">\n",
        "> 1.  $g: \\R^k \\to \\R^m$ is continuously differentiable\n",
        ">\n",
        "> Then\n",
        "> $\\sqrt{n}(g(\\hat{\\theta}) - g(\\theta_0)) \\leadsto N\\left(0, D(g)(\\theta_0) \\Omega D(g)(\\theta_0) \\right)'$\n",
        "\n",
        "-   E.g. vaccine efficacy\n",
        "    -   $\\theta_0 = (\\Er[Y|T=0], \\Er[Y|t=1])$\n",
        "    -   $g(\\theta) = 1 - \\theta_2/\\theta_1$\n",
        "    -   $D(g)(\\theta_0) = \\begin{pmatrix} \\frac{\\Er[Y|T=1]}{\\Er[Y|T=0]^2} & -\\frac{1}{\\Er[Y|T=0]} \\end{pmatrix}$\n",
        "    -   $\\Omega = \\begin{pmatrix} p_0(1-p_0)/n_0 & 0 \\\\ 0 & p_1(1-p_1)/n_1 \\end{pmatrix}$\n",
        "\n",
        "## Delta Method"
      ],
      "id": "2e4fe947-42ef-4480-9313-95bce37b7af6"
    },
    {
      "cell_type": "code",
      "execution_count": 10,
      "metadata": {},
      "outputs": [
        {
          "output_type": "stream",
          "name": "stdout",
          "text": [
            "Efficacy among everyone is 0.946 (0.018)"
          ]
        }
      ],
      "source": [
        "import torch\n",
        "\n",
        "theta = [p0, phat]\n",
        "Omega = np.matrix([[s0**2, 0], [0, se**2]])\n",
        "def ve(theta) :\n",
        "    return(1 - theta[1]/theta[0])\n",
        "\n",
        "def deltamethod(g, theta, Omega) :\n",
        "    x = torch.tensor(theta, requires_grad=True)\n",
        "    val = g(x)\n",
        "    val.backward()\n",
        "    Dg = x.grad.numpy()\n",
        "    return(Dg @ Omega @ Dg.transpose())\n",
        "\n",
        "print(f\"Efficacy among everyone is {ve(theta):.3} ({deltamethod(ve,theta,Omega)[0,0]**0.5:.2})\")"
      ],
      "id": "9847a8f1"
    },
    {
      "cell_type": "markdown",
      "metadata": {},
      "source": [
        "## Simulation\n",
        "\n",
        "-   Suppose $\\sqrt{n} (\\hat{\\theta} - \\theta_0) \\leadsto N(0,\\Omega)$\n",
        "-   Create $\\tilde{\\theta}_s \\sim N(\\hat{\\theta}, \\Omega/n)$\n",
        "    -   so $\\sqrt{n}(\\tilde{\\theta}_s - \\hat{\\theta}) \\sim N(0,\\Omega)$\n",
        "-   and\n",
        "    $\\sqrt{n}(g(\\theta_{s}) - g(\\hat{\\theta})) \\approx \\sqrt{n}(g(\\hat{\\theta}) - g(\\theta_0))$"
      ],
      "id": "fe7875cd-ef48-4915-b572-122785cc367e"
    },
    {
      "cell_type": "code",
      "execution_count": 11,
      "metadata": {
        "output-location": "column"
      },
      "outputs": [
        {
          "output_type": "stream",
          "name": "stdout",
          "text": [
            "simulation se = 0.019"
          ]
        },
        {
          "output_type": "display_data",
          "metadata": {},
          "data": {
            "image/png": "[encoded data removed]"
          }
        }
      ],
      "source": [
        "def simulateg(g,theta,Omega,S=10_000):\n",
        "    thetas = np.random.multivariate_normal(theta, Omega, S)\n",
        "    gs = np.apply_along_axis(g,1,thetas)\n",
        "    return(gs, ((gs-g(theta))**2).mean())\n",
        "\n",
        "gs, gv=simulateg(ve, theta, Omega)\n",
        "print(f\"simulation se = {gv**0.5:.2}\")\n",
        "\n",
        "plt.hist(gs, bins=50, alpha=0.5)\n",
        "plt.title(\"Distribution of Vaccine Efficacy\")\n",
        "plt.show()"
      ],
      "id": "617cbb00"
    },
    {
      "cell_type": "markdown",
      "metadata": {},
      "source": [
        "# Bootstrap\n",
        "\n",
        "## Bootstrap\n",
        "\n",
        "-   Data $\\{x_i\\}_{i=1}^n$\n",
        "-   Estimator $\\hat{\\theta}(\\{x_i\\}_{i=1}^n)$\n",
        "    -   e.g. mean\n",
        "        $\\hat{\\theta}(\\{x_i\\}_{i=1}^n) = \\frac{1}{n} \\sum_{i=1}^n x_i$\n",
        "-   If we knew the distribution of $x$, we could calculate the\n",
        "    distribution of $\\hat{\\theta}$\n",
        "\n",
        "-   Bootstrap: use empirical distribution as estimate of unknown\n",
        "    distribution of $x$\n",
        "\n",
        "## Bootstrap"
      ],
      "id": "d0eb313a-778c-4971-8dd5-ff6c4d6dbd21"
    },
    {
      "cell_type": "code",
      "execution_count": 12,
      "metadata": {
        "output-location": "slide"
      },
      "outputs": [
        {
          "output_type": "display_data",
          "metadata": {},
          "data": {
            "image/png": "[encoded data removed]"
          }
        }
      ],
      "source": [
        "import seaborn as sns\n",
        "\n",
        "def dgp(n):\n",
        "    x = np.exp(abs(np.random.normal(0,1,n)))\n",
        "    # x = np.random.normal(0,1,n)\n",
        "    return x\n",
        "\n",
        "def estimator(x):\n",
        "    return np.median(x)\n",
        "\n",
        "n = 100\n",
        "S = 9999\n",
        "# simulate true distribution of estimator\n",
        "true = estimator(dgp(n*100_00))\n",
        "mediansims = [estimator(dgp(n)) - true for _ in range(S)]\n",
        "\n",
        "def bootstrap(data, estimator, B=999):\n",
        "    n = len(data)\n",
        "    est = estimator(data)\n",
        "    bestimates = [estimator(np.random.choice(data,size=n, replace=True))-est for _ in range(B)]\n",
        "    return bestimates\n",
        "\n",
        "sns.ecdfplot(mediansims, label=\"True distribution\", linewidth=3)\n",
        "for b in range(3):\n",
        "    sns.ecdfplot(bootstrap(dgp(n), estimator), alpha=0.5, label=f\"Bootstrap {b}\")\n",
        "plt.legend()\n",
        "plt.show()"
      ],
      "id": "d2cc088b"
    },
    {
      "cell_type": "markdown",
      "metadata": {},
      "source": [
        "## Bootstrap Confidence Interval"
      ],
      "id": "52452d58-0f81-4d4a-bf59-3a9ee8b8e4c6"
    },
    {
      "cell_type": "code",
      "execution_count": 13,
      "metadata": {},
      "outputs": [
        {
          "output_type": "display_data",
          "metadata": {},
          "data": {
            "text/plain": [
              "(np.float64(1.6537611611827108), np.float64(2.3453019169210236))"
            ]
          }
        }
      ],
      "source": [
        " def bootstrapci(data, estimator, B=999, level=0.95):\n",
        "    estimates = bootstrap(data, estimator, B)\n",
        "    lo = np.percentile(estimates, 100*(1-level)/2) + estimator(data)\n",
        "    hi = np.percentile(estimates, 100*(1-(1-level)/2)) + estimator(data)\n",
        "    return lo, hi\n",
        "\n",
        "bootstrapci(dgp(n), estimator)"
      ],
      "id": "39594bdc"
    },
    {
      "cell_type": "markdown",
      "metadata": {},
      "source": [
        "# Complications and Warnings\n",
        "\n",
        "## Multiple Testing\n",
        "\n",
        "-   If construct many confidence intervals, there is high change at\n",
        "    least one will not contain the true parameter\n",
        "    -   65% chance with twenty 95% confidence intervals\n",
        "-   Trying many things and only focusing on “statistically significant”\n",
        "    results only leads to spurious conclusions\n",
        "\n",
        "## Dependence\n",
        "\n",
        "-   Standard errors require assumptions limiting dependence\n",
        "    -   Independent observations\n",
        "    -   Not-too-dependent observations\n",
        "        -   Clustered (for panel or grouped data)\n",
        "        -   Stationary (for time series)\n",
        "-   Bootstrap needs to be modified for dependence\n",
        "\n",
        "## Pathological Parameter Values\n",
        "\n",
        "-   Usual asymptotics (CLT, bootstrap, etc) don’t work if\n",
        "    -   True parameter on boundary (e.g. variance = 0)\n",
        "    -   True parameter near value where distribution of estimator\n",
        "        discontinuous\n",
        "        -   Weak instruments\n",
        "        -   Unit root\n",
        "\n",
        "## High Dimensions\n",
        "\n",
        "-   Number of parameters ($p$) large compared to sample size ($n$)\n",
        "-   Usual asymptotics break down\n",
        "-   Risk of overfitting\n",
        "-   Inference difficult, but possible\n",
        "    -   Chernozhukov et al. (2024) chapter 4\n",
        "-   More later …\n",
        "\n",
        "## Sources and Further Reading\n",
        "\n",
        "-   [Chapter\n",
        "    3](https://matheusfacure.github.io/python-causality-handbook/03-Stats-Review-The-Most-Dangerous-Equation.html.html)\n",
        "    of Facure (2022)\n",
        "-   [Chapter 1](https://causalml-book.org/) of Chernozhukov et al.\n",
        "    (2024)\n",
        "\n",
        "## References\n",
        "\n",
        "Chernozhukov, V., C. Hansen, N. Kallus, M. Spindler, and V. Syrgkanis.\n",
        "2024. *Applied Causal Inference Powered by ML and AI*.\n",
        "<https://causalml-book.org/>.\n",
        "\n",
        "Facure, Matheus. 2022. *Causal Inference for the Brave and True*.\n",
        "<https://matheusfacure.github.io/python-causality-handbook/landing-page.html>.\n",
        "\n",
        "Raič, Martin. 2019. “<span class=\"nocase\">A multivariate Berry–Esseen\n",
        "theorem with explicit constants</span>.” *Bernoulli* 25 (4A): 2824–53.\n",
        "<https://doi.org/10.3150/18-BEJ1072>."
      ],
      "id": "3b85831b-f3ee-4b33-8d20-107e3da6c2da"
    }
  ],
  "nbformat": 4,
  "nbformat_minor": 5,
  "metadata": {
    "kernelspec": {
      "name": "python3",
      "display_name": "Python 3 (ipykernel)",
      "language": "python",
      "path": "/usr/share/jupyter/kernels/python3"
    },
    "language_info": {
      "name": "python",
      "codemirror_mode": {
        "name": "ipython",
        "version": "3"
      },
      "file_extension": ".py",
      "mimetype": "text/x-python",
      "nbconvert_exporter": "python",
      "pygments_lexer": "ipython3",
      "version": "3.12.6"
    }
  }
}