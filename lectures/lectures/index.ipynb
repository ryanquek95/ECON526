{
  "cells": [
    {
      "cell_type": "markdown",
      "metadata": {},
      "source": [
        "# ECON526: Quantitative Economics with Data Science Applications\n",
        "\n",
        "To use with Jupyter, clone the repository or download the notebooks.\n",
        "\n",
        "# Lectures\n",
        "\n",
        "1.  <a href=\"linear_algebra_foundations.html\" target=\"_blank\">Linear Algebra\n",
        "    Foundations</a>,\n",
        "    <a href=\"linear_algebra_foundations.ipynb\" target=\"_blank\">Jupyter</a>,\n",
        "    <a href=\"linear_algebra_foundations.pdf\" target=\"_blank\">PDF</a>\n",
        "2.  <a href=\"eigenvalue_applications.html\" target=\"_blank\">Eigenvalues and\n",
        "    Stability</a>,\n",
        "    <a href=\"eigenvalue_applications.ipynb\" target=\"_blank\">Jupyter</a>,\n",
        "    <a href=\"eigenvalue_applications.pdf\" target=\"_blank\">PDF</a>\n",
        "3.  <a href=\"latent_variables.html\" target=\"_blank\">Latent Variables and\n",
        "    Unsupervised Learning</a>,\n",
        "    <a href=\"latent_variables.ipynb\" target=\"_blank\">Jupyter</a>,\n",
        "    <a href=\"latent_variables.pdf\" target=\"_blank\">PDF</a>\n",
        "4.  <a href=\"dynamics.html\" target=\"_blank\">Linear and Nonlinear\n",
        "    Dynamics</a>, <a href=\"dynamics.ipynb\" target=\"_blank\">Jupyter</a>,\n",
        "    <a href=\"dynamics.pdf\" target=\"_blank\">PDF</a>\n",
        "5.  <a href=\"probability.html\" target=\"_blank\">Probability, Conditioning,\n",
        "    and Independence</a>,\n",
        "    <a href=\"probability.ipynb\" target=\"_blank\">Jupyter</a>,\n",
        "    <a href=\"probability.pdf\" target=\"_blank\">PDF</a>\n",
        "6.  <a href=\"stochastic_processes.html\" target=\"_blank\">Stochastic\n",
        "    Processes</a>,\n",
        "    <a href=\"stochastic_processes.ipynb\" target=\"_blank\">Jupyter</a>,\n",
        "    <a href=\"stochastic_processes.pdf\" target=\"_blank\">PDF</a>\n",
        "7.  <a href=\"introduction_to_causality.html\" target=\"_blank\">Intro to\n",
        "    Causality</a>,\n",
        "    <a href=\"introduction_to_causality.ipynb\" target=\"_blank\">Jupyter</a>,\n",
        "    <a href=\"introduction_to_causality.pdf\" target=\"_blank\">PDF</a> <!--\n",
        "\n",
        "    8. [Uncertainty Quantification in Applied Economics](uncertainty_bias_variance.html){target=\"_blank\"}, [Jupyter](uncertainty_bias_variance.ipynb){target=\"_blank\"}, [PDF](uncertainty_bias_variance.pdf){target=\"_blank\"}\n",
        "    9. [Introduction to Causal Graphical Models](causal_graphical_models.html){target=\"_blank\"}, [Jupyter](causal_graphical_models.ipynb){target=\"_blank\"}, [PDF](causal_graphical_models.pdf){target=\"_blank\"}\n",
        "    10. [Practical Uses of Directed Graphical Models](using_dags.qmd), [Jupyter](using_dags.ipynb){target=\"_blank\"}, [PDF](using_dags.pdf){target=\"_blank\"}\n",
        "    11. [Regression](regression.qmd), [Jupyter](regression.ipynb){target=\"_blank\"}, [PDF](regression.pdf){target=\"_blank\"}\n",
        "    12. [Instrumental Variables](instrumental_variables.qmd), [Jupyter](instrumental_variables.ipynb){target=\"_blank\"}, [PDF](instrumental_variables.pdf){target=\"_blank\"}\n",
        "    -->"
      ],
      "id": "21284756-939a-401d-949a-0c17bbf5a291"
    }
  ],
  "nbformat": 4,
  "nbformat_minor": 5,
  "metadata": {
    "kernelspec": {
      "display_name": "Python 3",
      "language": "python",
      "name": "python3"
    }
  }
}