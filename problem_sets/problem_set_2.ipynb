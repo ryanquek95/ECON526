{
  "cells": [
    {
      "cell_type": "markdown",
      "id": "1a3bce72-63fb-4269-84d4-00c330947d5c",
      "metadata": {},
      "source": [
        "# ECON526: Assignment 2"
      ]
    },
    {
      "cell_type": "markdown",
      "id": "f347e2bc-8081-4ea6-a9db-6263024caa52",
      "metadata": {},
      "source": [
        "## Student Name/Number: 81771206 Ryan Quek"
      ]
    },
    {
      "cell_type": "markdown",
      "id": "0cdd4f1b-19ec-4c25-8c4d-7f1b438b5450",
      "metadata": {},
      "source": [
        "### Instructions\n",
        "\n",
        "-   Ensure you modify the field above with your **name and student\n",
        "    number above immediately**\n",
        "-   Modify directly and save as the `.ipynb`, and submit directly. Do\n",
        "    not export to PDF or HTML, and leave the filename as is. Canvas will\n",
        "    automatically append your name to the filename.\n",
        "-   Submit directly to canvas as a `.ipynb` file.\n",
        "\n",
        "## Setup\n",
        "\n",
        "Use the following packages and imports"
      ]
    },
    {
      "cell_type": "code",
      "execution_count": 45,
      "id": "ed5bdf6f",
      "metadata": {},
      "outputs": [],
      "source": [
        "import numpy as np\n",
        "import matplotlib.pyplot as plt\n",
        "import scipy\n",
        "from numpy.linalg import cond, matrix_rank, norm\n",
        "from scipy.linalg import inv, solve, det, eig, lu, eigvals\n",
        "from scipy.linalg import solve_triangular, eigvalsh, cholesky"
      ]
    },
    {
      "cell_type": "markdown",
      "id": "d6b395d5-da98-406d-a2d5-5d4063d1324b",
      "metadata": {},
      "source": [
        "## Q1.1\n",
        "\n",
        "Generate a random matrix $A \\in \\mathbb{R}^{10\\times 10}$ and random\n",
        "vector $b\\in\\mathbb{R}^{10}$ of uniformly distributed floating points\n",
        "between 0 and 1. Hint: use `np.random.rand(10, 10)`\n",
        "\n",
        "and solve $A x = b$ as a linear system with\n",
        "\n",
        "\n",
        "1.  `scipy.linalg.solve`\n",
        "2.  `scipy.linalg.inv`\n",
        "\n",
        "Modify"
      ]
    },
    {
      "cell_type": "code",
      "execution_count": 46,
      "id": "508a00fd",
      "metadata": {},
      "outputs": [
        {
          "name": "stdout",
          "output_type": "stream",
          "text": [
            "Solving using scipy.linalg.solve: [-1.24448013 -0.20985163  2.80064071 -0.94833178  0.45104283  0.01848715\n",
            " -0.0296639  -0.33204378  1.11562734 -1.07978579]\n",
            "Solving using scipy.linalg.inv: [-1.24448013 -0.20985163  2.80064071 -0.94833178  0.45104283  0.01848715\n",
            " -0.0296639  -0.33204378  1.11562734 -1.07978579]\n"
          ]
        }
      ],
      "source": [
        "N = 10\n",
        "A=np.random.rand(10,10)\n",
        "B=np.random.rand(10)\n",
        "\n",
        "#Using linalg.solve\n",
        "C=scipy.linalg.solve(A,B)\n",
        "\n",
        "#Using linalg.inv\n",
        "AInv=scipy.linalg.inv(A)\n",
        "D=np.matmul(AInv,B)\n",
        "\n",
        "print(f\"Solving using scipy.linalg.solve: {C}\")\n",
        "print(f\"Solving using scipy.linalg.inv: {D}\")\n"
      ]
    },
    {
      "cell_type": "markdown",
      "id": "d85b7cf3-05ee-4e57-b347-b493c287ccac",
      "metadata": {},
      "source": [
        "What matrix decomposition would `scipy.linalg.solve` likely use in this\n",
        "case?"
      ]
    },
    {
      "cell_type": "markdown",
      "id": "4dcb5da0-9d89-4db8-835e-325c2c208064",
      "metadata": {},
      "source": [
        "LU Decomposition"
      ]
    },
    {
      "cell_type": "markdown",
      "id": "dd6d9df4-5d3c-4db3-ad70-d6d6e2ccb1f3",
      "metadata": {},
      "source": [
        "## Q1.2\n",
        "\n",
        "The product of any matrix with its transpose is symmetric. Prove it.\n",
        "Hint: the definition of symmetric matrix $B$ is if $B = B^T$. Use this\n",
        "to take the transpose of $B \\equiv A^T A$."
      ]
    },
    {
      "cell_type": "markdown",
      "id": "7db40783-ba36-4d2b-bac7-62e725740a55",
      "metadata": {},
      "source": [
        "Taking the transpose of B:\n",
        "\n",
        "$B^T = A^T A$ \n",
        "\n",
        "$B^T = (AA^T)^T $\n",
        "\n",
        "$(AA^T)^T = (A^T)^T A^T$ \n",
        "\n",
        "Since \n",
        "$(A^T)^T = A$\n",
        "\n",
        "\n",
        "$(AA^T)^T = AA^T$\n",
        "\n",
        "The above shows that the product of any matrix with its transpose is symmetric as  $(AA^T)^T = AA^T$"
      ]
    },
    {
      "cell_type": "markdown",
      "id": "bf90e41a-8f6d-4d9f-9f6f-abd4809a151f",
      "metadata": {},
      "source": [
        "## Q1.3\n",
        "\n",
        "Using your matrix $A$ from before, construct the symmetric $B = A^T A$.\n",
        "\n",
        "Verify it is symmetric, and then find out if it is positive definite.\n",
        "Hint: you will need to use `eigvals` or `eigs`."
      ]
    },
    {
      "cell_type": "code",
      "execution_count": 47,
      "id": "6bcc645e",
      "metadata": {},
      "outputs": [
        {
          "name": "stdout",
          "output_type": "stream",
          "text": [
            "is Matrix B symmetric? True\n"
          ]
        }
      ],
      "source": [
        "# modify here, using A from above\n",
        "AT=np.transpose(A)\n",
        "\n",
        "MatB=np.matmul(A,AT)\n",
        "print(f\"is Matrix B symmetric? {scipy.linalg.issymmetric(MatB)}\")"
      ]
    },
    {
      "cell_type": "code",
      "execution_count": 48,
      "id": "afab60e4",
      "metadata": {},
      "outputs": [
        {
          "name": "stdout",
          "output_type": "stream",
          "text": [
            "is Matrix B positive definite? True\n"
          ]
        }
      ],
      "source": [
        "#Since B is symmetric, we can use eigvalsh\n",
        "\n",
        "B_eigs = eigvalsh(MatB)\n",
        "is_positive_definite = np.all(B_eigs > 0)\n",
        "print(f\"is Matrix B positive definite? {is_positive_definite}\")\n",
        "#I believe the below code is not needed as we have confirmation it is positive definite.\n",
        "# is_positive_semi_definite = np.all(B_eigs >= 0) # or eigvals(A) >= -eps\n",
        "#print(f\"is Matrix B positive semi definite? {is_positive_semi_definite}\")\n"
      ]
    },
    {
      "cell_type": "markdown",
      "id": "3410aa7f-9680-4841-a01f-51c8a8c201dc",
      "metadata": {},
      "source": [
        "## Q1.4\n",
        "\n",
        "Now solve the system $B x = b$ using `solve` and `inv`. If the matrix\n",
        "was shown to be symmetric or positive definite before, then use that in\n",
        "your solution"
      ]
    },
    {
      "cell_type": "code",
      "execution_count": 49,
      "id": "26e4a31b",
      "metadata": {},
      "outputs": [
        {
          "name": "stdout",
          "output_type": "stream",
          "text": [
            "Using scipy solve: solution is [-18.96277665  -8.40418499  21.72220759 -33.27503887 -53.41178382\n",
            "  -6.17114771  47.05736497  80.90595674  28.63595377 -46.22989354]\n",
            "Using scipy inv: solution is [-18.96277665  -8.40418499  21.72220759 -33.27503887 -53.41178382\n",
            "  -6.17114771  47.05736497  80.90595674  28.63595377 -46.22989354]\n",
            "The solutions are the same\n"
          ]
        }
      ],
      "source": [
        "e=scipy.linalg.solve(MatB,B)\n",
        "\n",
        "MatBInv=scipy.linalg.inv(MatB)\n",
        "f=np.matmul(MatBInv,B)\n",
        "\n",
        "print(f\"Using scipy solve: solution is {e}\")\n",
        "print(f\"Using scipy inv: solution is {f}\")\n",
        "print(\"The solutions are the same\")"
      ]
    },
    {
      "cell_type": "markdown",
      "id": "c900fce8-a1ec-44fa-835c-1eeb3d8deae6",
      "metadata": {},
      "source": [
        "## Q2.1\n",
        "\n",
        "Take the matrix $A \\in \\mathbb{R}^{100 \\times 5}$\n",
        "\n",
        "Check if it is full rank"
      ]
    },
    {
      "cell_type": "code",
      "execution_count": 50,
      "id": "0e143cfc",
      "metadata": {},
      "outputs": [
        {
          "name": "stdout",
          "output_type": "stream",
          "text": [
            "rank(A) = 5\n"
          ]
        }
      ],
      "source": [
        "# modify here\n",
        "N = 100\n",
        "K = 5\n",
        "A = np.random.rand(N, K)\n",
        "\n",
        "print(f\"rank(A) = {matrix_rank(A)}\")\n",
        "\n",
        "#Matrix has 5 columns, Matrix Rank is 5. Full rank."
      ]
    },
    {
      "cell_type": "markdown",
      "id": "9b7d8a26-bd0f-4693-a5d8-445d61e7febe",
      "metadata": {},
      "source": [
        "## Q2.2\n",
        "\n",
        "Take that previous matrix in Q2.1 and append a new column to it, so that\n",
        "it is now $\\hat{A} \\in \\mathbb{R}^{100 \\times 6}$ such that the matrix\n",
        "will still have a rank of $5$ and not 6. Hint: lots of ways to append a\n",
        "vector to a matrix in numpy, including `numpy.column_stack` and\n",
        "`numpy.concatenate`"
      ]
    },
    {
      "cell_type": "code",
      "execution_count": 51,
      "id": "a8eeecd5",
      "metadata": {},
      "outputs": [
        {
          "name": "stdout",
          "output_type": "stream",
          "text": [
            "rank(Ahat) = 5\n"
          ]
        }
      ],
      "source": [
        "#First, generate a linear dependent column vector. Here, I've picked the second column and multiplied it by 2.\n",
        "#This makes it different from the other columns but still linearly dependent.\n",
        "\n",
        "Anewcol=2*A[:, [1]]\n",
        "\n",
        "Ahat=np.column_stack((A,Anewcol))\n",
        "\n",
        "print(f\"rank(Ahat) = {matrix_rank(Ahat)}\")\n"
      ]
    },
    {
      "cell_type": "markdown",
      "id": "903bfc22-776c-464c-81bb-6f42c37b6ae2",
      "metadata": {},
      "source": [
        "## Q2.3\n",
        "\n",
        "Take the $A$ and the $\\hat{A}$ from before, and form $B = A A^T$ and\n",
        "$\\hat{B} = \\hat{A} \\hat{A}^T$. What are there ranks?"
      ]
    },
    {
      "cell_type": "code",
      "execution_count": 52,
      "id": "23eee5bc",
      "metadata": {},
      "outputs": [
        {
          "name": "stdout",
          "output_type": "stream",
          "text": [
            "rank(MatB) = 5, rank(MatBhat) = 5\n"
          ]
        }
      ],
      "source": [
        "AT=np.transpose(A)\n",
        "AhatT=np.transpose(Ahat)\n",
        "\n",
        "MatB=np.matmul(A,AT)\n",
        "MatBhat=np.matmul(Ahat,AhatT)\n",
        "\n",
        "print(f\"rank(MatB) = {matrix_rank(MatB)}, rank(MatBhat) = {matrix_rank(MatBhat)}\")"
      ]
    },
    {
      "cell_type": "markdown",
      "id": "249b23ec-361e-49df-846b-8082fcc6cfad",
      "metadata": {},
      "source": [
        "Could we do a cholesky decomposition of this matrix? Check and/or\n",
        "explain why not if you can’t"
      ]
    },
    {
      "cell_type": "markdown",
      "id": "7c1a49b5-dffb-4276-a339-a6ad084d7dda",
      "metadata": {},
      "source": [
        "Matrix is not positive definite, and as such it is not possible."
      ]
    },
    {
      "cell_type": "markdown",
      "id": "ea904eb7-ced2-44d4-b587-81d42cc337bb",
      "metadata": {},
      "source": [
        "## Q3.1\n",
        "\n",
        "Take the following $B\\in\\mathbb{R}^{N\\times N}$ symmetric matrix and do\n",
        "an eigendecomposition (spectral decomposition in this case since\n",
        "symmetric), and print out the eigenvalues"
      ]
    },
    {
      "cell_type": "code",
      "execution_count": 53,
      "id": "8654b138",
      "metadata": {},
      "outputs": [
        {
          "name": "stdout",
          "output_type": "stream",
          "text": [
            "eigenvectors are column-by-column in Q =\n",
            "[[-0.2768037   0.4467092   0.22258499 -0.44744752  0.14188305  0.2419213\n",
            "   0.35714696 -0.29918223 -0.42019247 -0.04236582]\n",
            " [-0.30155231  0.47651624  0.1571592   0.09971382 -0.41965242 -0.12338709\n",
            "  -0.24340565  0.36596687 -0.04934366  0.51030504]\n",
            " [-0.3238401  -0.00677201  0.10498698  0.59825317  0.46887309  0.15745982\n",
            "   0.18175111 -0.26467262  0.17797064  0.38309063]\n",
            " [-0.30798571  0.02150039 -0.06334696 -0.55920818  0.23291506 -0.09880595\n",
            "  -0.09797882  0.00899997  0.7086825   0.10969113]\n",
            " [-0.35770397  0.07684131 -0.58441435  0.13208456 -0.35294854 -0.40455057\n",
            "   0.2909853  -0.34146536  0.01872327 -0.13153473]\n",
            " [-0.33327188 -0.29380398 -0.3876272  -0.05510702 -0.19231495  0.72732785\n",
            "   0.03996438  0.27797875 -0.05360798  0.03979255]\n",
            " [-0.22508657  0.22804798 -0.21551555  0.09604636  0.25327653  0.07409053\n",
            "  -0.77530783 -0.20729142 -0.17762784 -0.31047751]\n",
            " [-0.38317766 -0.53967265  0.51776513 -0.06138994 -0.34861266 -0.0758616\n",
            "  -0.20065433 -0.34214026 -0.06679204 -0.03177727]\n",
            " [-0.31860327  0.17274919  0.30541405  0.26418649 -0.00257874 -0.00715965\n",
            "   0.20063302  0.40549016  0.21867939 -0.67306981]\n",
            " [-0.30773188 -0.32795569 -0.10545807 -0.12631699  0.42711299 -0.43327922\n",
            "   0.05175743  0.43370832 -0.44725964  0.09843502]]\n",
            "eigenvalues are in Lambda = [1.01187782e+02+0.j 8.27525176e+00+0.j 6.05358929e+00+0.j\n",
            " 5.80409475e+00+0.j 3.88297390e+00+0.j 2.21902438e-02+0.j\n",
            " 1.53799562e-01+0.j 1.15728061e+00+0.j 2.06810074e+00+0.j\n",
            " 2.62429554e+00+0.j]\n",
            "Q Lambda Q^T =\n",
            "[[11.43883871  9.77473338  7.79677119  9.56407078  9.10849374  7.71545112\n",
            "   6.96566202  9.57114612  9.04178934  8.05631254]\n",
            " [ 9.77473338 12.82435989  9.91239248  8.80136181 10.9808841   9.09641501\n",
            "   6.7486202  10.41616878 10.09109551  7.58770817]\n",
            " [ 7.79677119  9.91239248 14.14721763  8.89839087 11.14776954 10.088288\n",
            "   7.68522511 12.11006252 10.82247423 10.17574508]\n",
            " [ 9.56407078  8.80136181  8.89839087 12.72400065 10.62001596 10.42110135\n",
            "   6.71488303 11.42348182  9.11085854  9.74614336]\n",
            " [ 9.10849374 10.9808841  11.14776954 10.62001596 15.84629109 13.33830838\n",
            "   8.92789924 12.26029442 10.85695933 10.40431543]\n",
            " [ 7.71545112  9.09641501 10.088288   10.42110135 13.33830838 13.13559556\n",
            "   7.23902554 13.19059493  9.56205993 11.33664392]\n",
            " [ 6.96566202  6.7486202   7.68522511  6.71488303  8.92789924  7.23902554\n",
            "   6.60126116  6.81255003  7.67566162  6.8503912 ]\n",
            " [ 9.57114612 10.41616878 12.11006252 11.42348182 12.26029442 13.19059493\n",
            "   6.81255003 19.53733964 12.30750285 12.41356368]\n",
            " [ 9.04178934 10.09109551 10.82247423  9.11085854 10.85695933  9.56205993\n",
            "   7.67566162 12.30750285 12.97234966  8.88817163]\n",
            " [ 8.05631254  7.58770817 10.17574508  9.74614336 10.40431543 11.33664392\n",
            "   6.8503912  12.41356368  8.88817163 12.00210391]]\n"
          ]
        }
      ],
      "source": [
        "N = 10\n",
        "A = 2.0 * np.random.rand(N, N)\n",
        "B = A.T @ A\n",
        "\n",
        "# modify here\n",
        "# Lambda, Q = .... \n",
        "Lambda, Q = eig(B)\n",
        "print(f\"eigenvectors are column-by-column in Q =\\n{Q}\")\n",
        "print(f\"eigenvalues are in Lambda = {Lambda}\")\n",
        "print(f\"Q Lambda Q^T =\\n{Q @ np.diag(np.real(Lambda)) @ Q.T}\")"
      ]
    },
    {
      "cell_type": "markdown",
      "id": "fb1c79af-8022-4891-b1a6-9dbe10f63e53",
      "metadata": {},
      "source": [
        "## Q3.2\n",
        "\n",
        "For your matrix above, calculate its spectral radius"
      ]
    },
    {
      "cell_type": "code",
      "execution_count": 54,
      "id": "1129831c",
      "metadata": {},
      "outputs": [
        {
          "name": "stdout",
          "output_type": "stream",
          "text": [
            "spectral radius is 101.1877815188412\n"
          ]
        }
      ],
      "source": [
        "print(f\"spectral radius is {max(abs(Lambda))}\")"
      ]
    },
    {
      "cell_type": "markdown",
      "id": "22629cd5-3005-4835-b870-f910d8dcdd43",
      "metadata": {},
      "source": [
        "## Q4.1\n",
        "\n",
        "Take the vector $\\hat{x}_1\\in \\mathbb{R}^2$"
      ]
    },
    {
      "cell_type": "code",
      "execution_count": 55,
      "id": "6c091b5f",
      "metadata": {},
      "outputs": [
        {
          "name": "stdout",
          "output_type": "stream",
          "text": [
            "[1 2]\n"
          ]
        }
      ],
      "source": [
        "x_hat_1 = np.array([1, 2])\n",
        "print(x_hat_1)"
      ]
    },
    {
      "cell_type": "markdown",
      "id": "ce738605-9923-47b3-b734-e127c16584a6",
      "metadata": {},
      "source": [
        "Verify that it is not a unit length vector (i.e. $\\|\\hat{x}_1\\| \\neq 1$)\n",
        "then create a new $x_1$ that is a unit length vector in the same\n",
        "direction as $\\hat{x}_1$ (i.e. $||x_1|| = 1$)"
      ]
    },
    {
      "cell_type": "code",
      "execution_count": 56,
      "id": "3bf2bd7d",
      "metadata": {},
      "outputs": [
        {
          "name": "stdout",
          "output_type": "stream",
          "text": [
            "x_hat_1's length is =2.23606797749979 which is more than 1, thus not a unit vector\n",
            "x1's vector is [0.4472136  0.89442719] and its length is 0.9999999999999999\n"
          ]
        }
      ],
      "source": [
        "y=np.linalg.norm(x_hat_1)\n",
        "\n",
        "print(f\"x_hat_1's length is ={y} which is more than 1, thus not a unit vector\")\n",
        "\n",
        "x_1 = x_hat_1 / y\n",
        "\n",
        "\n",
        "print(f\"x1's vector is {x_1} and its length is {np.linalg.norm(x_1)}\")\n",
        "#We get 0.999999 which is pretty much 1"
      ]
    },
    {
      "cell_type": "markdown",
      "id": "be66b996-8d0f-4b13-83f6-f308928e0a7a",
      "metadata": {},
      "source": [
        "## Q4.2\n",
        "\n",
        "Now find a $x_2$ which is also a unit length vector, but is orthogonal\n",
        "to $x_1$. Check it with `np.dot(x_1, x_2)` approx 0 and `norm(x_2)`\n",
        "approx 1. Hint: many ways to do this by hand in $\\mathbb{R}^2$ and\n",
        "fulfill the requirements, such as simple rotations."
      ]
    },
    {
      "cell_type": "code",
      "execution_count": 57,
      "id": "e9cebfe4",
      "metadata": {},
      "outputs": [
        {
          "name": "stdout",
          "output_type": "stream",
          "text": [
            "x2 is [-0.89442719  0.4472136 ]\n",
            "x1 and x2's dot product is 5.551115123125783e-17 and norm x2 is 1.0\n"
          ]
        }
      ],
      "source": [
        "# modify here\n",
        "#norm(x_2)\n",
        "theta = np.radians(90)\n",
        "c, s = np.cos(theta), np.sin(theta)\n",
        "R = np.array(((c,-s), (s, c)))\n",
        "x_2=np.dot(R,x_1)\n",
        "print(f\"x2 is {x_2}\")\n",
        "print(f\"x1 and x2's dot product is {np.dot(x_1, x_2)} and norm x2 is {(np.linalg.norm(x_2))}\")\n"
      ]
    },
    {
      "cell_type": "markdown",
      "id": "facbb771-58c0-4064-96fd-8e4791efec8d",
      "metadata": {},
      "source": [
        "## Q4.3\n",
        "\n",
        "The vectors $x_1$ and $x_2$ are now an orthonormal set. Form the matrix\n",
        "$Q = \\begin{bmatrix} x_1 & | & x_2\\end{bmatrix}$ and verify the\n",
        "condition for orthonormality (i.e. $Q^T Q = I\\implies Q^{-1} = Q^T$)"
      ]
    },
    {
      "cell_type": "code",
      "execution_count": 58,
      "id": "223e984f",
      "metadata": {},
      "outputs": [
        {
          "name": "stdout",
          "output_type": "stream",
          "text": [
            "Transpose of Q is [[ 0.4472136   0.89442719]\n",
            " [-0.89442719  0.4472136 ]]\n",
            "Inverse of Q is [[ 0.4472136   0.89442719]\n",
            " [-0.89442719  0.4472136 ]]\n",
            "The two matrices are the same, as such, they are orthonormal.\n"
          ]
        }
      ],
      "source": [
        "Q = np.column_stack((x_1, x_2))\n",
        "\n",
        "Q_T=np.transpose(Q)\n",
        "Q_I=np.linalg.inv(Q)\n",
        "print(f\"Transpose of Q is {Q_T}\")\n",
        "print(f\"Inverse of Q is {Q_I}\")\n",
        "print(f\"The two matrices are the same, as such, they are orthonormal.\")"
      ]
    },
    {
      "cell_type": "markdown",
      "id": "d7834811-6055-49ba-afd9-4507bc7d7cac",
      "metadata": {},
      "source": [
        "## Q4.4\n",
        "\n",
        "Create a matrix $A$ such that: 1. $Q$ are its eigenvectors 2. The\n",
        "spectral radius of $A$ is $1.0$ 3. $A$ is positive definite.\n",
        "\n",
        "Hint: create a matrix of eigenvalues $\\Lambda$ and then do an\n",
        "eigendecomposition in reverse"
      ]
    },
    {
      "cell_type": "code",
      "execution_count": 59,
      "id": "351f13dd",
      "metadata": {},
      "outputs": [
        {
          "name": "stdout",
          "output_type": "stream",
          "text": [
            "A_2 =\n",
            " [[0.68 0.16]\n",
            " [0.16 0.92]]\n",
            "spectral radius is 1.0\n",
            "pos-def? True\n"
          ]
        }
      ],
      "source": [
        "Lambda_2 = np.array([1.0, 0.6])\n",
        "A_2 = Q @ np.diag(Lambda_2) @ inv(Q) #Naming A_2 due to previous matrix in earlier question being named A.\n",
        "print(\"A_2 =\\n\", A_2)\n",
        "\n",
        "#Spectral Radius\n",
        "print(f\"spectral radius is {max(Lambda_2)}\")\n",
        "\n",
        "A_2eig = eigvalsh(A_2)\n",
        "is_positive_definite = np.all(A_2eig > 0)\n",
        "print(f\"pos-def? {is_positive_definite}\")\n"
      ]
    }
  ],
  "metadata": {
    "kernelspec": {
      "display_name": "base",
      "language": "python",
      "name": "python3"
    },
    "language_info": {
      "codemirror_mode": {
        "name": "ipython",
        "version": 3
      },
      "file_extension": ".py",
      "mimetype": "text/x-python",
      "name": "python",
      "nbconvert_exporter": "python",
      "pygments_lexer": "ipython3",
      "version": "3.12.4"
    }
  },
  "nbformat": 4,
  "nbformat_minor": 5
}
