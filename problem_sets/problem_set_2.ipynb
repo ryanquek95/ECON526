{
  "cells": [
    {
      "cell_type": "markdown",
      "metadata": {},
      "source": [
        "# ECON526: Assignment 2"
      ],
      "id": "1a3bce72-63fb-4269-84d4-00c330947d5c"
    },
    {
      "cell_type": "markdown",
      "metadata": {},
      "source": [
        "## Student Name/Number: (doubleclick to edit)"
      ],
      "id": "f347e2bc-8081-4ea6-a9db-6263024caa52"
    },
    {
      "cell_type": "markdown",
      "metadata": {},
      "source": [
        "### Instructions\n",
        "\n",
        "-   Ensure you modify the field above with your **name and student\n",
        "    number above immediately**\n",
        "-   Modify directly and save as the `.ipynb`, and submit directly. Do\n",
        "    not export to PDF or HTML, and leave the filename as is. Canvas will\n",
        "    automatically append your name to the filename.\n",
        "-   Submit directly to canvas as a `.ipynb` file.\n",
        "\n",
        "## Setup\n",
        "\n",
        "Use the following packages and imports"
      ],
      "id": "0cdd4f1b-19ec-4c25-8c4d-7f1b438b5450"
    },
    {
      "cell_type": "code",
      "execution_count": 1,
      "metadata": {},
      "outputs": [],
      "source": [
        "import numpy as np\n",
        "import matplotlib.pyplot as plt\n",
        "import scipy\n",
        "from numpy.linalg import cond, matrix_rank, norm\n",
        "from scipy.linalg import inv, solve, det, eig, lu, eigvals\n",
        "from scipy.linalg import solve_triangular, eigvalsh, cholesky"
      ],
      "id": "ed5bdf6f"
    },
    {
      "cell_type": "markdown",
      "metadata": {},
      "source": [
        "## Q1.1\n",
        "\n",
        "Generate a random matrix $A \\in \\mathbb{R}^{10\\times 10}$ and random\n",
        "vector $b\\in\\mathbb{R}^{10}$ of uniformly distributed floating points\n",
        "between 0 and 1. Hint: use `np.random.rand(10, 10)`\n",
        "\n",
        "and solve $A x = b$ as a linear system with\n",
        "\n",
        "1.  `scipy.linalg.solve`\n",
        "2.  `scipy.linalg.inv`\n",
        "\n",
        "Modify"
      ],
      "id": "d6b395d5-da98-406d-a2d5-5d4063d1324b"
    },
    {
      "cell_type": "code",
      "execution_count": 2,
      "metadata": {},
      "outputs": [],
      "source": [
        "N = 10\n",
        "# modify here"
      ],
      "id": "508a00fd"
    },
    {
      "cell_type": "markdown",
      "metadata": {},
      "source": [
        "What matrix decomposition would `scipy.linalg.solve` likely use in this\n",
        "case?"
      ],
      "id": "d85b7cf3-05ee-4e57-b347-b493c287ccac"
    },
    {
      "cell_type": "markdown",
      "metadata": {},
      "source": [
        "(double click to edit your answer)"
      ],
      "id": "4dcb5da0-9d89-4db8-835e-325c2c208064"
    },
    {
      "cell_type": "markdown",
      "metadata": {},
      "source": [
        "## Q1.2\n",
        "\n",
        "The product of any matrix with its transpose is symmetric. Prove it.\n",
        "Hint: the definition of symmetric matrix $B$ is if $B = B^T$. Use this\n",
        "to take the transpose of $B \\equiv A^T A$."
      ],
      "id": "dd6d9df4-5d3c-4db3-ad70-d6d6e2ccb1f3"
    },
    {
      "cell_type": "markdown",
      "metadata": {},
      "source": [
        "(double click to edit your answer)"
      ],
      "id": "7db40783-ba36-4d2b-bac7-62e725740a55"
    },
    {
      "cell_type": "markdown",
      "metadata": {},
      "source": [
        "## Q1.3\n",
        "\n",
        "Using your matrix $A$ from before, construct the symmetric $B = A^T A$.\n",
        "\n",
        "Verify it is symmetric, and then find out if it is positive definite.\n",
        "Hint: you will need to use `eigvals` or `eigs`."
      ],
      "id": "bf90e41a-8f6d-4d9f-9f6f-abd4809a151f"
    },
    {
      "cell_type": "code",
      "execution_count": 4,
      "metadata": {},
      "outputs": [],
      "source": [
        "# modify here, using A from above"
      ],
      "id": "6bcc645e"
    },
    {
      "cell_type": "markdown",
      "metadata": {},
      "source": [
        "## Q1.4\n",
        "\n",
        "Now solve the system $B x = b$ using `solve` and `inv`. If the matrix\n",
        "was shown to be symmetric or positive definite before, then use that in\n",
        "your solution"
      ],
      "id": "3410aa7f-9680-4841-a01f-51c8a8c201dc"
    },
    {
      "cell_type": "code",
      "execution_count": 6,
      "metadata": {},
      "outputs": [],
      "source": [
        "# modify here"
      ],
      "id": "26e4a31b"
    },
    {
      "cell_type": "markdown",
      "metadata": {},
      "source": [
        "## Q2.1\n",
        "\n",
        "Take the matrix $A \\in \\mathbb{R}^{100 \\times 5}$\n",
        "\n",
        "Check if it is full rank"
      ],
      "id": "c900fce8-a1ec-44fa-835c-1eeb3d8deae6"
    },
    {
      "cell_type": "code",
      "execution_count": 8,
      "metadata": {},
      "outputs": [],
      "source": [
        "# modify here\n",
        "N = 100\n",
        "K = 5\n",
        "A = np.random.rand(N, K)"
      ],
      "id": "0e143cfc"
    },
    {
      "cell_type": "markdown",
      "metadata": {},
      "source": [
        "## Q2.2\n",
        "\n",
        "Take that previous matrix in Q2.1 and append a new column to it, so that\n",
        "it is now $\\hat{A} \\in \\mathbb{R}^{100 \\times 6}$ such that the matrix\n",
        "will still have a rank of $5$ and not 6. Hint: lots of ways to append a\n",
        "vector to a matrix in numpy, including `numpy.column_stack` and\n",
        "`numpy.concatenate`"
      ],
      "id": "9b7d8a26-bd0f-4693-a5d8-445d61e7febe"
    },
    {
      "cell_type": "code",
      "execution_count": 10,
      "metadata": {},
      "outputs": [],
      "source": [
        "# modify here"
      ],
      "id": "a8eeecd5"
    },
    {
      "cell_type": "markdown",
      "metadata": {},
      "source": [
        "## Q2.3\n",
        "\n",
        "Take the $A$ and the $\\hat{A}$ from before, and form $B = A A^T$ and\n",
        "$\\hat{B} = \\hat{A} \\hat{A}^T$. What are there ranks?"
      ],
      "id": "903bfc22-776c-464c-81bb-6f42c37b6ae2"
    },
    {
      "cell_type": "code",
      "execution_count": 12,
      "metadata": {},
      "outputs": [],
      "source": [
        "# modify here"
      ],
      "id": "23eee5bc"
    },
    {
      "cell_type": "markdown",
      "metadata": {},
      "source": [
        "Could we do a cholesky decomposition of this matrix? Check and/or\n",
        "explain why not if you can’t"
      ],
      "id": "249b23ec-361e-49df-846b-8082fcc6cfad"
    },
    {
      "cell_type": "markdown",
      "metadata": {},
      "source": [
        "(double click to edit your answer)"
      ],
      "id": "7c1a49b5-dffb-4276-a339-a6ad084d7dda"
    },
    {
      "cell_type": "markdown",
      "metadata": {},
      "source": [
        "## Q3.1\n",
        "\n",
        "Take the following $B\\in\\mathbb{R}^{N\\times N}$ symmetric matrix and do\n",
        "an eigendecomposition (spectral decomposition in this case since\n",
        "symmetric), and print out the eigenvalues"
      ],
      "id": "ea904eb7-ced2-44d4-b587-81d42cc337bb"
    },
    {
      "cell_type": "code",
      "execution_count": 14,
      "metadata": {},
      "outputs": [],
      "source": [
        "N = 10\n",
        "A = 2.0 * np.random.rand(N, N)\n",
        "B = A.T @ A\n",
        "\n",
        "# modify here\n",
        "# Lambda, Q = .... "
      ],
      "id": "8654b138"
    },
    {
      "cell_type": "markdown",
      "metadata": {},
      "source": [
        "## Q3.2\n",
        "\n",
        "For your matrix above, calculate its spectral radius"
      ],
      "id": "fb1c79af-8022-4891-b1a6-9dbe10f63e53"
    },
    {
      "cell_type": "code",
      "execution_count": 16,
      "metadata": {},
      "outputs": [],
      "source": [
        "# modify here"
      ],
      "id": "1129831c"
    },
    {
      "cell_type": "markdown",
      "metadata": {},
      "source": [
        "## Q4.1\n",
        "\n",
        "Take the vector $\\hat{x}_1\\in \\mathbb{R}^2$"
      ],
      "id": "22629cd5-3005-4835-b870-f910d8dcdd43"
    },
    {
      "cell_type": "code",
      "execution_count": 18,
      "metadata": {},
      "outputs": [],
      "source": [
        "x_hat_1 = np.array([1, 2])"
      ],
      "id": "6c091b5f"
    },
    {
      "cell_type": "markdown",
      "metadata": {},
      "source": [
        "Verify that it is not a unit length vector (i.e. $\\|\\hat{x}_1\\| \\neq 1$)\n",
        "then create a new $x_1$ that is a unit length vector in the same\n",
        "direction as $\\hat{x}_1$ (i.e. $||x_1|| = 1$)"
      ],
      "id": "ce738605-9923-47b3-b734-e127c16584a6"
    },
    {
      "cell_type": "code",
      "execution_count": 19,
      "metadata": {},
      "outputs": [],
      "source": [
        "# modify here\n",
        "# x_1 = ..."
      ],
      "id": "3bf2bd7d"
    },
    {
      "cell_type": "markdown",
      "metadata": {},
      "source": [
        "## Q4.2\n",
        "\n",
        "Now find a $x_2$ which is also a unit length vector, but is orthogonal\n",
        "to $x_1$. Check it with `np.dot(x_1, x_2)` approx 0 and `norm(x_2)`\n",
        "approx 1. Hint: many ways to do this by hand in $\\mathbb{R}^2$ and\n",
        "fulfill the requirements, such as simple rotations."
      ],
      "id": "be66b996-8d0f-4b13-83f6-f308928e0a7a"
    },
    {
      "cell_type": "code",
      "execution_count": 21,
      "metadata": {},
      "outputs": [],
      "source": [
        "# modify here\n",
        "# x_2 = ..."
      ],
      "id": "e9cebfe4"
    },
    {
      "cell_type": "markdown",
      "metadata": {},
      "source": [
        "## Q4.3\n",
        "\n",
        "The vectors $x_1$ and $x_2$ are now an orthonormal set. Form the matrix\n",
        "$Q = \\begin{bmatrix} x_1 & | & x_2\\end{bmatrix}$ and verify the\n",
        "condition for orthonormality (i.e. $Q^T Q = I\\implies Q^{-1} = Q^T$)"
      ],
      "id": "facbb771-58c0-4064-96fd-8e4791efec8d"
    },
    {
      "cell_type": "code",
      "execution_count": 23,
      "metadata": {},
      "outputs": [],
      "source": [
        "# Q = np.column_stack((x_1, x_2))\n",
        "# modify here"
      ],
      "id": "223e984f"
    },
    {
      "cell_type": "markdown",
      "metadata": {},
      "source": [
        "## Q4.4\n",
        "\n",
        "Create a matrix $A$ such that: 1. $Q$ are its eigenvectors 2. The\n",
        "spectral radius of $A$ is $1.0$ 3. $A$ is positive definite.\n",
        "\n",
        "Hint: create a matrix of eigenvalues $\\Lambda$ and then do an\n",
        "eigendecomposition in reverse"
      ],
      "id": "d7834811-6055-49ba-afd9-4507bc7d7cac"
    },
    {
      "cell_type": "code",
      "execution_count": 25,
      "metadata": {},
      "outputs": [],
      "source": [
        "# modify here"
      ],
      "id": "351f13dd"
    }
  ],
  "nbformat": 4,
  "nbformat_minor": 5,
  "metadata": {
    "kernelspec": {
      "name": "python3",
      "display_name": "Python 3 (ipykernel)",
      "language": "python"
    }
  }
}