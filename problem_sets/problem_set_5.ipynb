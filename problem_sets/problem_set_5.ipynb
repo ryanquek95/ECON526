{
  "cells": [
    {
      "cell_type": "markdown",
      "metadata": {},
      "source": [
        "# ECON526: Assignment 5"
      ],
      "id": "b457f225-69fd-4dfc-9f62-0eb68c9f6121"
    },
    {
      "cell_type": "markdown",
      "metadata": {},
      "source": [
        "## Student Name/Number: (doubleclick to edit)"
      ],
      "id": "f6ac678f-9542-4941-b256-dcde6c82c1fc"
    },
    {
      "cell_type": "markdown",
      "metadata": {},
      "source": [
        "### Instructions\n",
        "\n",
        "-   Ensure you modify the field above with your **name and student\n",
        "    number above immediately**\n",
        "-   Modify directly and save as the `.ipynb`, and submit directly. Do\n",
        "    not export to PDF or HTML, and leave the filename as is. Canvas will\n",
        "    automatically append your name to the filename.\n",
        "-   Submit directly to canvas as a `.ipynb` file.\n",
        "\n",
        "## Setup\n",
        "\n",
        "Feel free to use the following packages (and we have added a few\n",
        "convenience imports)"
      ],
      "id": "be2c869d-9f00-47ec-8bf9-fd19f8fa823c"
    },
    {
      "cell_type": "code",
      "execution_count": 1,
      "metadata": {},
      "outputs": [],
      "source": [
        "import numpy as np\n",
        "import matplotlib.pyplot as plt\n",
        "import scipy\n",
        "from scipy import stats\n",
        "import pandas as pd"
      ],
      "id": "bd447d10"
    },
    {
      "cell_type": "markdown",
      "metadata": {},
      "source": [
        "This problem set will analyze data from the [Illinois Workplace Wellness\n",
        "Study.](https://github.com/reifjulian/illinois-wellness-data). This\n",
        "study is described and analyzed by Jones, Molitor, and Reif (2019) and\n",
        "Reif et al. (2020). Consider reading all the questions (especially 7)\n",
        "before working on any of them.\n",
        "\n",
        "# Question 1\n",
        "\n",
        "Read section II, “Experimental Design” of Jones, Molitor, and Reif\n",
        "(2019). Briefly (5 or fewer sentences) describe the treatment and\n",
        "outcomes in this study."
      ],
      "id": "6de81e08-855d-4a85-a31b-1f42b8b9c7ac"
    },
    {
      "cell_type": "markdown",
      "metadata": {},
      "source": [
        "(double click to edit your answer)"
      ],
      "id": "9eec95e8-0da3-4d6c-9205-7b83989ce59d"
    },
    {
      "cell_type": "markdown",
      "metadata": {},
      "source": [
        "# Question 2\n",
        "\n",
        "We will begin by focusing on total medical spending as the outcome. This\n",
        "variable is available in the claims data set in\n",
        "https://github.com/reifjulian/illinois-wellness-data . The documentation\n",
        "for this data is\n",
        "https://github.com/reifjulian/illinois-wellness-data/blob/master/data/codebooks/claims.codebook.txt\n",
        ". What are the names of the treatment and medical spending outcome\n",
        "variables in this data?"
      ],
      "id": "d8fc76ed-09b6-4ced-a5b1-17789a145b73"
    },
    {
      "cell_type": "markdown",
      "metadata": {},
      "source": [
        "(double click to edit your answer)"
      ],
      "id": "9552375b-d433-411a-a25d-fcab4c1cdcbd"
    },
    {
      "cell_type": "markdown",
      "metadata": {},
      "source": [
        "# Question 3\n",
        "\n",
        "The following code downloads the claims data and loads it."
      ],
      "id": "74c8d168-3cbd-493f-9b91-02c807f5c12b"
    },
    {
      "cell_type": "code",
      "execution_count": 2,
      "metadata": {},
      "outputs": [],
      "source": [
        "claims=pd.read_stata(\"https://github.com/reifjulian/illinois-wellness-data/raw/refs/heads/master/data/stata/claims.dta\")"
      ],
      "id": "4a173344"
    },
    {
      "cell_type": "markdown",
      "metadata": {},
      "source": [
        "Create a histogram of the outcome variable, which has the distributions\n",
        "of the outcome for the treatment and control groups overlaid on top of\n",
        "each other in different colors. Make the histogram transparent so that\n",
        "you can clearly see both distributions. Add a legend to the plot to\n",
        "indicate which distribution is which.\n",
        "\n",
        "# Question 4\n",
        "\n",
        "Estimate the average treatment effect (ATE) using the difference in\n",
        "sample means as your estimator. Print each sample average and your point\n",
        "estimate of the ATE as formatted strings. Interpret your result in the\n",
        "markdown cell below."
      ],
      "id": "76aa0364-e55c-44e7-a9ed-46ff5cb42007"
    },
    {
      "cell_type": "code",
      "execution_count": 4,
      "metadata": {},
      "outputs": [],
      "source": [
        "# your code here"
      ],
      "id": "b7760a2e"
    },
    {
      "cell_type": "markdown",
      "metadata": {},
      "source": [
        "(double click to edit your answer)"
      ],
      "id": "6bc6cbb1-785a-48b4-864f-863220edf037"
    },
    {
      "cell_type": "markdown",
      "metadata": {},
      "source": [
        "# Question 5\n",
        "\n",
        "Use the standard error formula to calculate the asymptotic standard\n",
        "errors of each of the sample means, and use these to construct a 95%\n",
        "confidence interval for the ATE. Print all output in formatted strings.\n",
        "In the markdown cell below, interpret your confidence interval."
      ],
      "id": "ad4bfe2c-7a94-42d6-b44f-9234642daaa1"
    },
    {
      "cell_type": "code",
      "execution_count": 5,
      "metadata": {},
      "outputs": [],
      "source": [
        "# your code here"
      ],
      "id": "041419c9"
    },
    {
      "cell_type": "markdown",
      "metadata": {},
      "source": [
        "(double click to edit your answer)"
      ],
      "id": "a16819ab-e23e-4998-b912-6b77a5fe2b6f"
    },
    {
      "cell_type": "markdown",
      "metadata": {},
      "source": [
        "# Question 6\n",
        "\n",
        "Construct a 95% confidence interval using bootstrapping. Use 999\n",
        "bootstrap samples. Are the results different? Is this what you expected?\n",
        "Explain in the markdown cell below."
      ],
      "id": "65b4c3d4-c425-40fc-8b8e-a1385e1b8a6b"
    },
    {
      "cell_type": "code",
      "execution_count": 6,
      "metadata": {},
      "outputs": [],
      "source": [
        "np.random.seed(100) # do not change this line\n",
        "# your code here"
      ],
      "id": "e876de70"
    },
    {
      "cell_type": "markdown",
      "metadata": {},
      "source": [
        "(double click to edit your answer)"
      ],
      "id": "3e2e6833-646b-4391-915b-e6216e481b86"
    },
    {
      "cell_type": "markdown",
      "metadata": {},
      "source": [
        "# Question 7\n",
        "\n",
        "Choose one (or more if you want, but no need) other outcome to analyze.\n",
        "It can be in claims data, but could also be in one of the [other\n",
        "datasets from the\n",
        "study](https://github.com/reifjulian/illinois-wellness-data/tree/master/data/stata).\n",
        "\n",
        "## 7.1\n",
        "\n",
        "Report the ATE and a 95% confidence interval for this outcome. Briefly\n",
        "describe the results."
      ],
      "id": "abbecda7-953f-4f8c-90c6-d7a28fff138d"
    },
    {
      "cell_type": "code",
      "execution_count": 7,
      "metadata": {},
      "outputs": [],
      "source": [
        "# your code here"
      ],
      "id": "179716a7"
    },
    {
      "cell_type": "markdown",
      "metadata": {},
      "source": [
        "(double click to edit your answer)"
      ],
      "id": "2f91143a-28f8-48ef-922e-dc274f1d34aa"
    },
    {
      "cell_type": "markdown",
      "metadata": {},
      "source": [
        "## 7.2\n",
        "\n",
        "Repeating identical or similar code is generally regarded as poor style.\n",
        "Repetitive code can be hard to maintain and modify.\n",
        "\n",
        "Did your answer to 7.1 involve repeating a lot of code similar to what\n",
        "you had for questions 1-6? If yes, how could your code be reorganized to\n",
        "reduce repetition? If no, how did you avoid repetition?"
      ],
      "id": "3ea22622-fd31-4cae-9355-a426950c5a41"
    },
    {
      "cell_type": "markdown",
      "metadata": {},
      "source": [
        "(double click to edit your answer)"
      ],
      "id": "89085483-083b-4eda-a14e-ae9d49b9d478"
    },
    {
      "cell_type": "markdown",
      "metadata": {},
      "source": [
        "# References\n",
        "\n",
        "Jones, Damon, David Molitor, and Julian Reif. 2019.\n",
        "“<span class=\"nocase\">What do Workplace Wellness Programs do? Evidence\n",
        "from the Illinois Workplace Wellness Study\\*</span>.” *The Quarterly\n",
        "Journal of Economics* 134 (4): 1747–91.\n",
        "<https://doi.org/10.1093/qje/qjz023>.\n",
        "\n",
        "Reif, Julian, David Chan, Damon Jones, Laura Payne, and David Molitor.\n",
        "2020. “<span class=\"nocase\">Effects of a Workplace Wellness Program on\n",
        "Employee Health, Health Beliefs, and Medical Use: A Randomized Clinical\n",
        "Trial</span>.” *JAMA Internal Medicine* 180 (7): 952–60.\n",
        "<https://doi.org/10.1001/jamainternmed.2020.1321>."
      ],
      "id": "fad25096-0c55-44fc-a4eb-190e5268a609"
    }
  ],
  "nbformat": 4,
  "nbformat_minor": 5,
  "metadata": {
    "kernelspec": {
      "name": "python3",
      "display_name": "Python 3 (ipykernel)",
      "language": "python",
      "path": "/usr/share/jupyter/kernels/python3"
    }
  }
}