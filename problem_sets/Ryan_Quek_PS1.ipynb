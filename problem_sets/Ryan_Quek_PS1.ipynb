{
 "cells": [
  {
   "cell_type": "markdown",
   "id": "c0264e49-4b64-4573-9566-710b2f1037f8",
   "metadata": {},
   "source": [
    "# ECON526: Assignment 1\n",
    "\n",
    "Jesse Perla, Paul Schrimpf\n",
    "\n",
    "## Setup"
   ]
  },
  {
   "cell_type": "code",
   "execution_count": 4,
   "id": "eda8fe9c-2eed-48b8-90f0-1686e73682ac",
   "metadata": {},
   "outputs": [],
   "source": [
    "import numpy as np\n",
    "import matplotlib.pyplot as plt"
   ]
  },
  {
   "cell_type": "markdown",
   "id": "6c64d1fb-8149-401a-bfa5-dfd05ed41b2f",
   "metadata": {},
   "source": [
    "Install Python (with Jupyter and/or VS Code as you wish) and git.\n",
    "\n",
    "-   See [here](https://github.com/ubcecon/ECON526#computing-environment)\n",
    "    for very instructions and links.\n",
    "-   VS Code is optional but recommended.\n",
    "\n",
    "## Q1\n",
    "\n",
    "Modify the next cell with some math text with the Pythagorean theorem\n",
    "(e.g. $x^2 + y^2 = z^2$)"
   ]
  },
  {
   "cell_type": "markdown",
   "id": "0b688641-b35e-41cc-b0ba-92450e2deaee",
   "metadata": {},
   "source": [
    "$a^2+b^2=c^2$\n",
    "\n",
    "Using LaTeX:\n",
    "\\begin{equation}\n",
    "a^2+b^2=c^2\n",
    "\\end{equation}"
   ]
  },
  {
   "cell_type": "markdown",
   "id": "c9d5908f-2638-4a74-ba0f-42f8aa7beae4",
   "metadata": {},
   "source": [
    "## Q2\n",
    "\n",
    "Modify the next cell to create a function which takes the sides of the\n",
    "rectangle and calculates the hypotenuse (i.e., code up\n",
    "$z(x,y) = \\sqrt{x^2 + y^2}$) then calculate $z(3,4)$"
   ]
  },
  {
   "cell_type": "code",
   "execution_count": 6,
   "id": "b0c57d02-109f-47b8-a517-c8d73ba3a612",
   "metadata": {},
   "outputs": [
    {
     "name": "stdout",
     "output_type": "stream",
     "text": [
      "[5.]\n"
     ]
    }
   ],
   "source": [
    "#Create the function\n",
    "def z(x,y):\n",
    "    a=x**2+y**2\n",
    "    b=np.sqrt([a])\n",
    "    return (b)\n",
    "\n",
    "#Calculate z(3,4)\n",
    "\n",
    "print(z(3,4))"
   ]
  },
  {
   "cell_type": "markdown",
   "id": "2a079517-ce46-4ac0-ad83-4922a98bda3a",
   "metadata": {},
   "source": [
    "## Q3\n",
    "\n",
    "Take the following system of equations, build a matrix, and solve for\n",
    "the system of equations using numpy’s `linalg.solve` function.\n",
    "\n",
    "$$\n",
    "\\begin{align}\n",
    "2 x_1 + 3 x_2 &= 5 \\\\\n",
    "4 x_1 + 9 x_2 &= 20\n",
    "\\end{align}\n",
    "$$"
   ]
  },
  {
   "cell_type": "code",
   "execution_count": 8,
   "id": "c8bd7a40-7516-460b-ad46-e63d34a4bb48",
   "metadata": {},
   "outputs": [
    {
     "data": {
      "text/plain": [
       "array([-2.5       ,  3.33333333])"
      ]
     },
     "execution_count": 8,
     "metadata": {},
     "output_type": "execute_result"
    }
   ],
   "source": [
    "#Set up the system of equations\n",
    "a = np.array([[2, 3], [4, 9]]) \n",
    "b = np.array([5,20]) # Column vector\n",
    "\n",
    "#Solve for x1 and x2\n",
    "x = np.linalg.solve(a,b)\n",
    "x\n",
    "\n",
    "#The answer shows x1=-2.5, x2=3.33333 (basically 10/3)"
   ]
  },
  {
   "cell_type": "markdown",
   "id": "a7ae4741-4223-4225-bbe1-464f76464ae7",
   "metadata": {},
   "source": [
    "## Q4\n",
    "\n",
    "Now take the following system\n",
    "\n",
    "$$\n",
    "\\begin{align}\n",
    "x_1 + 2 x_2 &= 5 \\\\\n",
    "2 x_1 + 4 x_2 &= 10\n",
    "\\end{align}\n",
    "$$\n",
    "\n",
    "Try this with `linalg.solve`. Why doesn’t it work? If this has a\n",
    "solution, find it and explain."
   ]
  },
  {
   "cell_type": "code",
   "execution_count": 10,
   "id": "8ec69a98-cbeb-4a89-b873-a4a12532fd32",
   "metadata": {},
   "outputs": [
    {
     "data": {
      "text/plain": [
       "(array([1., 2.]),\n",
       " array([], dtype=float64),\n",
       " 1,\n",
       " array([5.00000000e+00, 1.04061363e-16]))"
      ]
     },
     "execution_count": 10,
     "metadata": {},
     "output_type": "execute_result"
    }
   ],
   "source": [
    "#Set up the system of equations\n",
    "a = np.array([[1, 2], [2, 4]]) \n",
    "b = np.array([5,10]) # Column vector\n",
    "\n",
    "\"\"\"\n",
    "#Solve for x1 and x2\n",
    "x = np.linalg.solve(a,b)\n",
    "x\n",
    "## Error will pop up - 'Singular Matrix'. \n",
    "## The Matrix is linearly dependent (Equation 2 is proportional to Equation 1)\n",
    "\"\"\"\n",
    "\n",
    "#There are many non-unique solutions to this, eg. x1=1, x2=2, linalg.lstsq could help show one approximate solution, but this is only one possible one.\n",
    "#Technically there are infinite solutions here.\n",
    "\n",
    "y=np.linalg.lstsq(a,b,rcond=0)\n",
    "y\n",
    "\n"
   ]
  },
  {
   "cell_type": "markdown",
   "id": "ce441a22-574c-41e7-bd39-c547e32ed6c6",
   "metadata": {},
   "source": [
    "## Q5\n",
    "\n",
    "Plot $f(x) = x^2$ for a grid of 20 points of $x \\in [0,1]$. Hint: You\n",
    "can make a grid with `np.linspace(...)` and use matplotlib’s\n",
    "`plt.plot(...)` function."
   ]
  },
  {
   "cell_type": "code",
   "execution_count": 12,
   "id": "4b01b40b-6c2a-4990-af03-6883f30dbf2f",
   "metadata": {},
   "outputs": [
    {
     "data": {
      "text/plain": [
       "[<matplotlib.lines.Line2D at 0x16a9b1245f0>]"
      ]
     },
     "execution_count": 12,
     "metadata": {},
     "output_type": "execute_result"
    },
    {
     "data": {
      "image/png": "[encoded data removed]",
      "text/plain": [
       "<Figure size 640x480 with 1 Axes>"
      ]
     },
     "metadata": {},
     "output_type": "display_data"
    }
   ],
   "source": [
    "x=np.linspace(0, 1, num=20)\n",
    "y=x**2\n",
    "\n",
    "plt.plot(x,y,'bo', scalex=True, scaley=True)\n"
   ]
  }
 ],
 "metadata": {
  "kernelspec": {
   "display_name": "Python 3 (ipykernel)",
   "language": "python",
   "name": "python3"
  },
  "language_info": {
   "codemirror_mode": {
    "name": "ipython",
    "version": 3
   },
   "file_extension": ".py",
   "mimetype": "text/x-python",
   "name": "python",
   "nbconvert_exporter": "python",
   "pygments_lexer": "ipython3",
   "version": "3.12.4"
  }
 },
 "nbformat": 4,
 "nbformat_minor": 5
}
